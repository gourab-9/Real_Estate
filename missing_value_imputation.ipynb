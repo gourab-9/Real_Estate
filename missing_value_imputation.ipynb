{
 "cells": [
  {
   "cell_type": "code",
   "execution_count": null,
   "id": "6d002d57",
   "metadata": {},
   "outputs": [],
   "source": [
    "# importing the libraries\n",
    "\n",
    "import numpy as np\n",
    "import pandas as pd\n",
    "import matplotlib.pyplot as plt\n",
    "import seaborn as sns\n",
    "import warnings\n",
    "warnings.filterwarnings('ignore')"
   ]
  },
  {
   "cell_type": "code",
   "execution_count": null,
   "id": "cedf71d3",
   "metadata": {},
   "outputs": [],
   "source": [
    "# Avoid to truncating rows and column as well\n",
    "\n",
    "pd.set_option('display.max_columns', None)\n",
    "pd.set_option('display.max_rows', None)"
   ]
  },
  {
   "cell_type": "code",
   "execution_count": null,
   "id": "986abf25",
   "metadata": {},
   "outputs": [],
   "source": [
    "# Import the dataset\n",
    "\n",
    "df = pd.read_csv('gurgaon_properties_outlier_treated.csv')"
   ]
  },
  {
   "cell_type": "code",
   "execution_count": null,
   "id": "2ada2d2e",
   "metadata": {},
   "outputs": [],
   "source": [
    "df.head()"
   ]
  },
  {
   "cell_type": "code",
   "execution_count": null,
   "id": "c68895c6",
   "metadata": {},
   "outputs": [],
   "source": [
    "df.isnull().sum()"
   ]
  },
  {
   "cell_type": "markdown",
   "id": "87db7ff0",
   "metadata": {},
   "source": [
    "### Built up area"
   ]
  },
  {
   "cell_type": "code",
   "execution_count": null,
   "id": "bcccae79",
   "metadata": {},
   "outputs": [],
   "source": [
    "sns.scatterplot(x = df['built_up_area'], y = df['super_built_up_area'])"
   ]
  },
  {
   "cell_type": "code",
   "execution_count": null,
   "id": "d78eeec5",
   "metadata": {},
   "outputs": [],
   "source": [
    "sns.scatterplot(x = df['built_up_area'], y = df['carpet_area'])"
   ]
  },
  {
   "cell_type": "code",
   "execution_count": null,
   "id": "ad2f3a15",
   "metadata": {},
   "outputs": [],
   "source": [
    "# checking for all the three area's are missing in a column or not\n",
    "\n",
    "((df['super_built_up_area'].isnull()) & (df['built_up_area'].isnull()) & (df['carpet_area'].isnull()))"
   ]
  },
  {
   "cell_type": "code",
   "execution_count": null,
   "id": "5fc28cb7",
   "metadata": {},
   "outputs": [],
   "source": [
    "# Extract that all rows where all the area's are present\n",
    "\n",
    "all_present_df = df[~((df['super_built_up_area'].isnull()) | (df['built_up_area'].isnull()) | (df['carpet_area'].isnull()))]"
   ]
  },
  {
   "cell_type": "code",
   "execution_count": null,
   "id": "7fe957f9",
   "metadata": {},
   "outputs": [],
   "source": [
    "all_present_df.shape"
   ]
  },
  {
   "cell_type": "code",
   "execution_count": null,
   "id": "552e5111",
   "metadata": {},
   "outputs": [],
   "source": [
    "all_present_df.shape"
   ]
  },
  {
   "cell_type": "code",
   "execution_count": null,
   "id": "b842f438",
   "metadata": {},
   "outputs": [],
   "source": [
    "# calculate the ratio of super_built_up_area and built_up_area\n",
    "\n",
    "super_to_built_up_ratio = (all_present_df['super_built_up_area']/all_present_df['built_up_area']).median()"
   ]
  },
  {
   "cell_type": "code",
   "execution_count": null,
   "id": "2f2fad3c",
   "metadata": {},
   "outputs": [],
   "source": [
    "# calculate the ratio of carpet_area and built_up_area\n",
    "\n",
    "\n",
    "carpet_to_built_up_ratio = (all_present_df['carpet_area']/all_present_df['built_up_area']).median()"
   ]
  },
  {
   "cell_type": "code",
   "execution_count": null,
   "id": "e0227eb7",
   "metadata": {},
   "outputs": [],
   "source": [
    "print(super_to_built_up_ratio, carpet_to_built_up_ratio)"
   ]
  },
  {
   "cell_type": "code",
   "execution_count": null,
   "id": "0ba45398",
   "metadata": {},
   "outputs": [],
   "source": [
    "# both present built up null\n",
    "\n",
    "sbc_df = df[~(df['super_built_up_area'].isnull()) & (df['built_up_area'].isnull()) & ~(df['carpet_area'].isnull())]"
   ]
  },
  {
   "cell_type": "code",
   "execution_count": null,
   "id": "08844996",
   "metadata": {},
   "outputs": [],
   "source": [
    "sbc_df.head()"
   ]
  },
  {
   "cell_type": "code",
   "execution_count": null,
   "id": "38482a18",
   "metadata": {},
   "outputs": [],
   "source": [
    "\n",
    "\n",
    "sbc_df['built_up_area'].fillna(round(((sbc_df['super_built_up_area']/1.105) + (sbc_df['carpet_area']/0.9))/2),inplace=True)"
   ]
  },
  {
   "cell_type": "code",
   "execution_count": null,
   "id": "dc07ce6a",
   "metadata": {},
   "outputs": [],
   "source": [
    "df.update(sbc_df)"
   ]
  },
  {
   "cell_type": "code",
   "execution_count": null,
   "id": "74f4e740",
   "metadata": {},
   "outputs": [],
   "source": [
    "df.isnull().sum()"
   ]
  },
  {
   "cell_type": "code",
   "execution_count": null,
   "id": "6ea20e87",
   "metadata": {},
   "outputs": [],
   "source": [
    "# sb present c is null built up null\n",
    "\n",
    "\n",
    "sb_df = df[~(df['super_built_up_area'].isnull()) & (df['built_up_area'].isnull()) & (df['carpet_area'].isnull())]"
   ]
  },
  {
   "cell_type": "code",
   "execution_count": null,
   "id": "c885ec48",
   "metadata": {},
   "outputs": [],
   "source": [
    "sb_df.head()"
   ]
  },
  {
   "cell_type": "code",
   "execution_count": null,
   "id": "428a3034",
   "metadata": {},
   "outputs": [],
   "source": [
    "sb_df['built_up_area'].fillna(round(sb_df['super_built_up_area']/1.105),inplace=True)"
   ]
  },
  {
   "cell_type": "code",
   "execution_count": null,
   "id": "17287db4",
   "metadata": {},
   "outputs": [],
   "source": [
    "df.update(sb_df)"
   ]
  },
  {
   "cell_type": "code",
   "execution_count": null,
   "id": "50ed2aeb",
   "metadata": {},
   "outputs": [],
   "source": [
    "df.isnull().sum()"
   ]
  },
  {
   "cell_type": "code",
   "execution_count": null,
   "id": "b1a07dad",
   "metadata": {},
   "outputs": [],
   "source": [
    "# sb null c is present built up null\n",
    "\n",
    "\n",
    "c_df = df[(df['super_built_up_area'].isnull()) & (df['built_up_area'].isnull()) & ~(df['carpet_area'].isnull())]"
   ]
  },
  {
   "cell_type": "code",
   "execution_count": null,
   "id": "975a6a22",
   "metadata": {},
   "outputs": [],
   "source": [
    "c_df.head()"
   ]
  },
  {
   "cell_type": "code",
   "execution_count": null,
   "id": "71a71e2f",
   "metadata": {},
   "outputs": [],
   "source": [
    "c_df['built_up_area'].fillna(round(c_df['carpet_area']/0.9),inplace=True)"
   ]
  },
  {
   "cell_type": "code",
   "execution_count": null,
   "id": "ddc7bb28",
   "metadata": {},
   "outputs": [],
   "source": [
    "df.update(c_df)"
   ]
  },
  {
   "cell_type": "code",
   "execution_count": null,
   "id": "3e1a2b41",
   "metadata": {},
   "outputs": [],
   "source": [
    "df.isnull().sum()"
   ]
  },
  {
   "cell_type": "code",
   "execution_count": null,
   "id": "1508a87d",
   "metadata": {},
   "outputs": [],
   "source": [
    "sns.scatterplot(x = df['built_up_area'], y = df['price'])"
   ]
  },
  {
   "cell_type": "code",
   "execution_count": null,
   "id": "4943d854",
   "metadata": {},
   "outputs": [],
   "source": [
    "# find the rows where built_up_area < 2000 and price > 2.5cr\n",
    "\n",
    "anamoly_df = df[(df['built_up_area'] < 2000) & (df['price'] > 2.5)][['price','area','built_up_area']]"
   ]
  },
  {
   "cell_type": "code",
   "execution_count": null,
   "id": "552e277d",
   "metadata": {},
   "outputs": [],
   "source": [
    "anamoly_df.sample(5)"
   ]
  },
  {
   "cell_type": "code",
   "execution_count": null,
   "id": "e01de777",
   "metadata": {},
   "outputs": [],
   "source": [
    "anamoly_df['built_up_area'] = anamoly_df['area']"
   ]
  },
  {
   "cell_type": "code",
   "execution_count": null,
   "id": "71f55407",
   "metadata": {},
   "outputs": [],
   "source": [
    "df.update(anamoly_df)"
   ]
  },
  {
   "cell_type": "code",
   "execution_count": null,
   "id": "1cc08e57",
   "metadata": {},
   "outputs": [],
   "source": [
    "sns.scatterplot( x = df['built_up_area'], y = df['price'])"
   ]
  },
  {
   "cell_type": "code",
   "execution_count": null,
   "id": "7e75a8a2",
   "metadata": {},
   "outputs": [],
   "source": [
    "# droping these columns\n",
    "\n",
    "df.drop(columns=['area','areaWithType','super_built_up_area','carpet_area'],inplace=True)"
   ]
  },
  {
   "cell_type": "code",
   "execution_count": null,
   "id": "0ae5f745",
   "metadata": {},
   "outputs": [],
   "source": [
    "df.head()"
   ]
  },
  {
   "cell_type": "code",
   "execution_count": null,
   "id": "7df1636b",
   "metadata": {},
   "outputs": [],
   "source": [
    "df.isnull().sum()"
   ]
  },
  {
   "cell_type": "markdown",
   "id": "97647789",
   "metadata": {},
   "source": [
    "### floorNum"
   ]
  },
  {
   "cell_type": "code",
   "execution_count": null,
   "id": "11cc8437",
   "metadata": {},
   "outputs": [],
   "source": [
    "df[df['floorNum'].isnull()]"
   ]
  },
  {
   "cell_type": "code",
   "execution_count": null,
   "id": "77359215",
   "metadata": {},
   "outputs": [],
   "source": [
    "df[df['property_type'] == 'house']['floorNum'].median()"
   ]
  },
  {
   "cell_type": "code",
   "execution_count": null,
   "id": "214204ae",
   "metadata": {},
   "outputs": [],
   "source": [
    "df['floorNum'].fillna(2.0,inplace=True)"
   ]
  },
  {
   "cell_type": "code",
   "execution_count": null,
   "id": "df6966e8",
   "metadata": {},
   "outputs": [],
   "source": [
    "df.isnull().sum()"
   ]
  },
  {
   "cell_type": "code",
   "execution_count": null,
   "id": "990a6d22",
   "metadata": {},
   "outputs": [],
   "source": [
    "1011/df.shape[0]"
   ]
  },
  {
   "cell_type": "markdown",
   "id": "7e4487b1",
   "metadata": {},
   "source": [
    "### facing"
   ]
  },
  {
   "cell_type": "code",
   "execution_count": null,
   "id": "ce76f583",
   "metadata": {},
   "outputs": [],
   "source": [
    "df['facing'].isnull().sum()"
   ]
  },
  {
   "cell_type": "code",
   "execution_count": null,
   "id": "faf404f3",
   "metadata": {},
   "outputs": [],
   "source": [
    "df['facing'].value_counts().plot(kind='pie',autopct='%0.2f%%')"
   ]
  },
  {
   "cell_type": "code",
   "execution_count": null,
   "id": "3dba49cc",
   "metadata": {},
   "outputs": [],
   "source": [
    "df.drop(columns=['facing'],inplace=True)"
   ]
  },
  {
   "cell_type": "code",
   "execution_count": null,
   "id": "1ed2ccd8",
   "metadata": {},
   "outputs": [],
   "source": [
    "df.sample(5)"
   ]
  },
  {
   "cell_type": "code",
   "execution_count": null,
   "id": "501c28a7",
   "metadata": {},
   "outputs": [],
   "source": [
    "df.isnull().sum()"
   ]
  },
  {
   "cell_type": "code",
   "execution_count": null,
   "id": "28907e31",
   "metadata": {},
   "outputs": [],
   "source": [
    "df[df['society'].isnull()]"
   ]
  },
  {
   "cell_type": "code",
   "execution_count": null,
   "id": "15081458",
   "metadata": {},
   "outputs": [],
   "source": [
    "df.drop(index=[402],inplace=True)"
   ]
  },
  {
   "cell_type": "code",
   "execution_count": null,
   "id": "c1bef3cb",
   "metadata": {
    "scrolled": true
   },
   "outputs": [],
   "source": [
    "df.isnull().sum()"
   ]
  },
  {
   "cell_type": "markdown",
   "id": "b5ff5d4e",
   "metadata": {},
   "source": [
    "### agePossession"
   ]
  },
  {
   "cell_type": "code",
   "execution_count": null,
   "id": "a697a7b2",
   "metadata": {},
   "outputs": [],
   "source": [
    "df['agePossession'].value_counts()"
   ]
  },
  {
   "cell_type": "code",
   "execution_count": null,
   "id": "24d70cb6",
   "metadata": {},
   "outputs": [],
   "source": [
    "df[df['agePossession'] == 'Undefined']"
   ]
  },
  {
   "cell_type": "code",
   "execution_count": null,
   "id": "f8bddd51",
   "metadata": {},
   "outputs": [],
   "source": [
    "# checking for all the undefined value present in age_possession and try to replace with mode of the values with the help of property type and sector no.\n",
    "\n",
    "\n",
    "def mode_based_imputation(row):\n",
    "    if row['agePossession'] == 'Undefined':\n",
    "        mode_value = df[(df['sector'] == row['sector']) & (df['property_type'] == row['property_type'])]['agePossession'].mode()\n",
    "        # If mode_value is empty (no mode found), return NaN, otherwise return the mode\n",
    "        if not mode_value.empty:\n",
    "            return mode_value.iloc[0] \n",
    "        else:\n",
    "            return np.nan\n",
    "    else:\n",
    "        return row['agePossession']"
   ]
  },
  {
   "cell_type": "code",
   "execution_count": null,
   "id": "c454df33",
   "metadata": {},
   "outputs": [],
   "source": [
    "df['agePossession'] = df.apply(mode_based_imputation,axis=1)"
   ]
  },
  {
   "cell_type": "code",
   "execution_count": null,
   "id": "98c086ec",
   "metadata": {},
   "outputs": [],
   "source": [
    "df['agePossession'].value_counts()"
   ]
  },
  {
   "cell_type": "code",
   "execution_count": null,
   "id": "3dfe327a",
   "metadata": {},
   "outputs": [],
   "source": [
    "\n",
    "\n",
    "\n",
    "def mode_based_imputation2(row):\n",
    "    if row['agePossession'] == 'Undefined':\n",
    "        mode_value = df[(df['sector'] == row['sector'])]['agePossession'].mode()\n",
    "        # If mode_value is empty (no mode found), return NaN, otherwise return the mode\n",
    "        if not mode_value.empty:\n",
    "            return mode_value.iloc[0] \n",
    "        else:\n",
    "            return np.nan\n",
    "    else:\n",
    "        return row['agePossession']"
   ]
  },
  {
   "cell_type": "code",
   "execution_count": null,
   "id": "07761e08",
   "metadata": {},
   "outputs": [],
   "source": [
    "df['agePossession'] = df.apply(mode_based_imputation2,axis=1)"
   ]
  },
  {
   "cell_type": "code",
   "execution_count": null,
   "id": "1fd7aa56",
   "metadata": {},
   "outputs": [],
   "source": [
    "df['agePossession'].value_counts()"
   ]
  },
  {
   "cell_type": "code",
   "execution_count": null,
   "id": "ea4f6dac",
   "metadata": {},
   "outputs": [],
   "source": [
    "def mode_based_imputation3(row):\n",
    "    if row['agePossession'] == 'Undefined':\n",
    "        mode_value = df[(df['property_type'] == row['property_type'])]['agePossession'].mode()\n",
    "        # If mode_value is empty (no mode found), return NaN, otherwise return the mode\n",
    "        if not mode_value.empty:\n",
    "            return mode_value.iloc[0] \n",
    "        else:\n",
    "            return np.nan\n",
    "    else:\n",
    "        return row['agePossession']"
   ]
  },
  {
   "cell_type": "code",
   "execution_count": null,
   "id": "cf4180df",
   "metadata": {},
   "outputs": [],
   "source": [
    "df['agePossession'] = df.apply(mode_based_imputation3,axis=1)"
   ]
  },
  {
   "cell_type": "code",
   "execution_count": null,
   "id": "b571fa62",
   "metadata": {},
   "outputs": [],
   "source": [
    "df['agePossession'].value_counts()"
   ]
  },
  {
   "cell_type": "code",
   "execution_count": null,
   "id": "cd9c0b62",
   "metadata": {},
   "outputs": [],
   "source": [
    "df.isnull().sum()"
   ]
  },
  {
   "cell_type": "code",
   "execution_count": null,
   "id": "95a40a8a",
   "metadata": {},
   "outputs": [],
   "source": [
    "# Export this dataset for further process\n",
    "\n",
    "df.to_csv('gurgaon_properties_missing_value_imputation.csv',index=False)"
   ]
  },
  {
   "cell_type": "code",
   "execution_count": null,
   "id": "317aea01",
   "metadata": {},
   "outputs": [],
   "source": [
    "df.shape"
   ]
  },
  {
   "cell_type": "code",
   "execution_count": null,
   "id": "e98c6e23",
   "metadata": {},
   "outputs": [],
   "source": []
  }
 ],
 "metadata": {
  "kernelspec": {
   "display_name": "Python 3 (ipykernel)",
   "language": "python",
   "name": "python3"
  },
  "language_info": {
   "codemirror_mode": {
    "name": "ipython",
    "version": 3
   },
   "file_extension": ".py",
   "mimetype": "text/x-python",
   "name": "python",
   "nbconvert_exporter": "python",
   "pygments_lexer": "ipython3",
   "version": "3.10.9"
  }
 },
 "nbformat": 4,
 "nbformat_minor": 5
}
